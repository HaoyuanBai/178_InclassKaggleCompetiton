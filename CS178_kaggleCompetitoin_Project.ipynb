{
 "cells": [
  {
   "cell_type": "markdown",
   "metadata": {
    "cell_id": "41e4c6df-c2a3-4f8e-b5eb-7a70ad671bce",
    "deepnote_cell_type": "markdown",
    "tags": []
   },
   "source": [
    "## Loading Data"
   ]
  },
  {
   "cell_type": "code",
   "execution_count": 43,
   "metadata": {
    "cell_id": "0b9b7a2b-9e8b-458b-90e1-e03933d2c995",
    "deepnote_cell_type": "code",
    "deepnote_to_be_reexecuted": false,
    "execution_millis": 6293,
    "execution_start": 1615594581465,
    "output_cleared": false,
    "source_hash": "a032f52a",
    "tags": []
   },
   "outputs": [
    {
     "name": "stdout",
     "output_type": "stream",
     "text": [
      "(180000, 14) (20000, 14) (180000,) (20000,)\n"
     ]
    }
   ],
   "source": [
    "import numpy as np\n",
    "import matplotlib.pyplot as plt\n",
    "from sklearn import metrics\n",
    "from sklearn.model_selection import train_test_split\n",
    "from sklearn.preprocessing import StandardScaler\n",
    "import warnings\n",
    "import mltools as ml\n",
    "\n",
    "warnings.filterwarnings('ignore')\n",
    "X = np.genfromtxt('X_train.txt', delimiter=None)\n",
    "Y = np.genfromtxt('Y_train.txt', delimiter=None)\n",
    "Xte = np.genfromtxt('X_test.txt', delimiter=None)\n",
    "\n",
    "Xtr, Xva, Ytr, Yva = train_test_split(X, Y, test_size = 0.1, random_state=0)\n",
    "XtrP = StandardScaler().fit_transform(Xtr)\n",
    "XvaP = StandardScaler().fit_transform(Xva)\n",
    "\n",
    "print(Xtr.shape, Xva.shape, Ytr.shape, Yva.shape)"
   ]
  },
  {
   "cell_type": "markdown",
   "metadata": {
    "cell_id": "00004-744d7f02-718a-4075-b4d8-cb901defb0a3",
    "deepnote_cell_type": "markdown",
    "tags": []
   },
   "source": [
    "## KNN"
   ]
  },
  {
   "cell_type": "code",
   "execution_count": 2,
   "metadata": {
    "cell_id": "00003-9dddd675-aa7d-49e4-8961-5102d2f1b4cf",
    "deepnote_cell_type": "code",
    "deepnote_to_be_reexecuted": false,
    "execution_millis": 0,
    "execution_start": 1615591490635,
    "source_hash": "4e690cc3",
    "tags": []
   },
   "outputs": [],
   "source": [
    "from sklearn.neighbors import KNeighborsClassifier"
   ]
  },
  {
   "cell_type": "code",
   "execution_count": 3,
   "metadata": {},
   "outputs": [
    {
     "name": "stdout",
     "output_type": "stream",
     "text": [
      "min correlation of -0.9692805658978815 at 3,13\n",
      "max correlation of 0.9456425468737595 at 0,3\n"
     ]
    }
   ],
   "source": [
    "correlations = dict([])\n",
    "for i in range(14):\n",
    "    for j in range(i+1, 14):\n",
    "        correlations[np.corrcoef(XtrP[:,i], XtrP[:,j])[0][1]] = str(i) + ',' + str(j)\n",
    "print('min correlation of', min(correlations), 'at', correlations[min(correlations)])\n",
    "print('max correlation of', max(correlations), 'at', correlations[max(correlations)])"
   ]
  },
  {
   "cell_type": "code",
   "execution_count": 4,
   "metadata": {},
   "outputs": [],
   "source": [
    "XtrKNN = XtrP[:, 0]\n",
    "XvaKNN = XvaP[:, 0]\n",
    "for i in range(1, 14):\n",
    "    if i not in [3, 13]:\n",
    "        XtrKNN = np.column_stack((XtrKNN, XtrP[:,i]))\n",
    "        XvaKNN = np.column_stack((XvaKNN, XvaP[:,i]))\n",
    "XtrKNN = np.column_stack((XtrKNN, np.multiply(-XtrP[:,3], XtrP[:,13])))\n",
    "XvaKNN = np.column_stack((XvaKNN, np.multiply(-XvaP[:,3], XvaP[:,13])))"
   ]
  },
  {
   "cell_type": "code",
   "execution_count": 5,
   "metadata": {
    "cell_id": "00002-37f804eb-81be-4d02-95e8-c8be6c3d6890",
    "deepnote_cell_type": "code",
    "deepnote_to_be_reexecuted": false,
    "execution_millis": 7010,
    "execution_start": 1615591746267,
    "source_hash": "64752db2",
    "tags": []
   },
   "outputs": [],
   "source": [
    "# for n_neighbors in [7,8,9,10,11,12,13,14,15]:\n",
    "#     neigh = KNeighborsClassifier(n_neighbors)\n",
    "#     neigh.fit(XtrKNN, Ytr)\n",
    "#     print(n_neighbors, metrics.roc_auc_score(Yva,neigh.predict_proba(XvaKNN)[:,1]))"
   ]
  },
  {
   "cell_type": "code",
   "execution_count": 6,
   "metadata": {
    "cell_id": "00004-04269d1a-fa43-4eac-9058-7edaf625f1a8",
    "deepnote_cell_type": "code",
    "deepnote_to_be_reexecuted": false,
    "execution_millis": 79417,
    "execution_start": 1615591762637,
    "source_hash": "1caabb78",
    "tags": []
   },
   "outputs": [
    {
     "name": "stdout",
     "output_type": "stream",
     "text": [
      "Training AUC 0.8269270001007643\n",
      "Validation AUC 0.731799663583667\n"
     ]
    }
   ],
   "source": [
    "neigh = KNeighborsClassifier(10)\n",
    "neigh.fit(XtrKNN, Ytr)\n",
    "print('Training AUC', metrics.roc_auc_score(Ytr,neigh.predict_proba(XtrKNN)[:,1]))\n",
    "print('Validation AUC', metrics.roc_auc_score(Yva,neigh.predict_proba(XvaKNN)[:,1]))"
   ]
  },
  {
   "cell_type": "markdown",
   "metadata": {
    "cell_id": "00005-33ec1c0b-8f20-429f-8120-f450d84aaa6b",
    "deepnote_cell_type": "markdown",
    "tags": []
   },
   "source": [
    "## Linear Model"
   ]
  },
  {
   "cell_type": "code",
   "execution_count": 7,
   "metadata": {
    "cell_id": "00008-4ad82394-6370-4a88-8054-88fea25f89b2",
    "deepnote_cell_type": "code",
    "deepnote_to_be_reexecuted": false,
    "execution_millis": 0,
    "execution_start": 1615591490636,
    "source_hash": "af35732f",
    "tags": []
   },
   "outputs": [],
   "source": [
    "from sklearn.linear_model import LogisticRegression\n",
    "from sklearn.preprocessing import PolynomialFeatures"
   ]
  },
  {
   "cell_type": "code",
   "execution_count": 8,
   "metadata": {
    "cell_id": "00007-1b2a1223-4ab8-4c55-997c-fe4b732fe3a8",
    "deepnote_cell_type": "code",
    "deepnote_to_be_reexecuted": true,
    "execution_millis": 134144,
    "source_hash": "1a0c56c5",
    "tags": []
   },
   "outputs": [
    {
     "name": "stdout",
     "output_type": "stream",
     "text": [
      "(180000, 120) (20000, 14)\n"
     ]
    }
   ],
   "source": [
    "XtrPoly = PolynomialFeatures(degree=2).fit_transform(XtrP)\n",
    "XvaPoly = PolynomialFeatures(degree=2).fit_transform(XvaP)\n",
    "\n",
    "print(XtrPoly.shape, XvaP.shape)"
   ]
  },
  {
   "cell_type": "code",
   "execution_count": 9,
   "metadata": {
    "cell_id": "00007-77ddce86-4088-42c2-9891-6042de08373d",
    "deepnote_cell_type": "code",
    "deepnote_to_be_reexecuted": true,
    "execution_millis": 110970,
    "source_hash": "2d2468f2",
    "tags": []
   },
   "outputs": [
    {
     "data": {
      "text/plain": [
       "LogisticRegression(max_iter=5000)"
      ]
     },
     "execution_count": 9,
     "metadata": {},
     "output_type": "execute_result"
    }
   ],
   "source": [
    "lr = LogisticRegression(tol=1e-4, max_iter=5000)\n",
    "lr.fit(XtrPoly, Ytr)"
   ]
  },
  {
   "cell_type": "code",
   "execution_count": 10,
   "metadata": {
    "cell_id": "00009-0c8f30d7-1a6f-4c71-967a-2b85262d2a15",
    "deepnote_cell_type": "code",
    "deepnote_to_be_reexecuted": true,
    "execution_millis": 224,
    "source_hash": "9d47296e",
    "tags": []
   },
   "outputs": [
    {
     "name": "stdout",
     "output_type": "stream",
     "text": [
      "Training AUC: 0.6811929489017979\n",
      "Validation AUC: 0.6825083495913075\n"
     ]
    }
   ],
   "source": [
    "print(\"Training AUC:\", metrics.roc_auc_score(Ytr, lr.predict_proba(XtrPoly)[:,1]))\n",
    "print(\"Validation AUC:\", metrics.roc_auc_score(Yva, lr.predict_proba(XvaPoly)[:,1]))"
   ]
  },
  {
   "cell_type": "markdown",
   "metadata": {
    "cell_id": "00008-e7479013-2882-4cb5-8b59-c34414daa3ec",
    "deepnote_cell_type": "markdown",
    "tags": []
   },
   "source": [
    "## Random Forests"
   ]
  },
  {
   "cell_type": "code",
   "execution_count": 11,
   "metadata": {
    "cell_id": "00013-57c7651a-d315-4bac-a601-8ae3d8386eb5",
    "deepnote_cell_type": "code",
    "deepnote_to_be_reexecuted": false,
    "execution_millis": 31,
    "execution_start": 1615591695079,
    "source_hash": "39ef4b5b",
    "tags": []
   },
   "outputs": [],
   "source": [
    "from sklearn.ensemble import RandomForestClassifier"
   ]
  },
  {
   "cell_type": "code",
   "execution_count": 12,
   "metadata": {
    "cell_id": "00015-655af656-5bfc-428c-8580-8e97d0dd06e9",
    "deepnote_cell_type": "code",
    "deepnote_to_be_reexecuted": false,
    "execution_millis": 113327,
    "execution_start": 1615591842053,
    "source_hash": "7ea19c34",
    "tags": []
   },
   "outputs": [
    {
     "data": {
      "text/plain": [
       "RandomForestClassifier(max_depth=35, max_features=4, min_samples_leaf=4,\n",
       "                       min_samples_split=4, n_estimators=500)"
      ]
     },
     "execution_count": 12,
     "metadata": {},
     "output_type": "execute_result"
    }
   ],
   "source": [
    "rf = RandomForestClassifier(n_estimators=500, max_depth=35, min_samples_leaf=4, min_samples_split = 4, max_features=4)\n",
    "rf.fit(XtrP, Ytr)"
   ]
  },
  {
   "cell_type": "code",
   "execution_count": 13,
   "metadata": {
    "cell_id": "00017-d692efd1-1df3-4000-90c8-cf21bc7f5226",
    "deepnote_cell_type": "code",
    "deepnote_to_be_reexecuted": false,
    "execution_millis": 12482,
    "execution_start": 1615591955373,
    "source_hash": "59493bf0",
    "tags": []
   },
   "outputs": [
    {
     "name": "stdout",
     "output_type": "stream",
     "text": [
      "Training AUC: 0.9524737687985823\n",
      "Validation AUC: 0.7644580645372071\n"
     ]
    }
   ],
   "source": [
    "print(\"Training AUC:\", metrics.roc_auc_score(Ytr, rf.predict_proba(XtrP)[:,1]))\n",
    "print(\"Validation AUC:\", metrics.roc_auc_score(Yva, rf.predict_proba(XvaP)[:,1]))"
   ]
  },
  {
   "cell_type": "markdown",
   "metadata": {
    "cell_id": "00017-3070b8ae-15b0-4de2-822d-1a02d5674c01",
    "deepnote_cell_type": "markdown",
    "tags": []
   },
   "source": [
    "    100 estimators, max_depth=30: 0.7556847954460596\n",
    "    100 estimators, max_depth=30, min_samples_split=4: 0.7676214147735156\n",
    "    100 estimators, max_depth=30, min_samples_leaf=4: 0.7796876858950488\n",
    "    100 estimators, min_samples_leaf=3, min_samples_split = 3, max_features=2,0.7796945078531264\n",
    "    100 estimators, min_samples_leaf=3, min_samples_split = 3, max_features=3,0.7837683270635156\n",
    "    100 estimators, min_samples_leaf=4, min_samples_split = 4, max_features=4,0.7850483251095345\n",
    "    100 estimators, min_samples_leaf=5, min_samples_split = 5, max_features=4,0.7843246789470857\n",
    "    100 estimators, min_samples_leaf=5, min_samples_split = 5, max_features=5,0.7836942830214536\n"
   ]
  },
  {
   "cell_type": "markdown",
   "metadata": {
    "cell_id": "00010-c2ba71e3-82a5-4e54-b12e-1f5bd6afa1a6",
    "deepnote_cell_type": "markdown",
    "tags": []
   },
   "source": [
    "## Boosted Learners"
   ]
  },
  {
   "cell_type": "code",
   "execution_count": 17,
   "metadata": {
    "cell_id": "00017-4a70760c-23da-4d7d-915c-5555915c4e97",
    "deepnote_cell_type": "code",
    "deepnote_to_be_reexecuted": false,
    "execution_millis": 1,
    "execution_start": 1615591710208,
    "source_hash": "532d99c7",
    "tags": []
   },
   "outputs": [],
   "source": [
    "from sklearn.ensemble import AdaBoostClassifier\n",
    "from sklearn.tree import DecisionTreeClassifier\n",
    "from lightgbm import LGBMClassifier"
   ]
  },
  {
   "cell_type": "code",
   "execution_count": 25,
   "metadata": {},
   "outputs": [
    {
     "data": {
      "text/plain": [
       "AdaBoostClassifier(base_estimator=DecisionTreeClassifier(max_depth=8,\n",
       "                                                         min_samples_split=64),\n",
       "                   learning_rate=0.5, n_estimators=120)"
      ]
     },
     "execution_count": 25,
     "metadata": {},
     "output_type": "execute_result"
    }
   ],
   "source": [
    "abc = AdaBoostClassifier(base_estimator=DecisionTreeClassifier(min_samples_split=2**6, max_depth=8), \n",
    "                         n_estimators=120, learning_rate=.5)\n",
    "abc.fit(XtrP, Ytr)"
   ]
  },
  {
   "cell_type": "code",
   "execution_count": 26,
   "metadata": {},
   "outputs": [
    {
     "name": "stdout",
     "output_type": "stream",
     "text": [
      "Training AUC: 0.8733796578416171\n",
      "Validation AUC: 0.592908080301066\n"
     ]
    }
   ],
   "source": [
    "print(\"Training AUC:\", metrics.roc_auc_score(Ytr, abc.predict_proba(XtrP)[:,1]))\n",
    "print(\"Validation AUC:\", metrics.roc_auc_score(Yva, abc.predict_proba(XvaP)[:,1]))"
   ]
  },
  {
   "cell_type": "code",
   "execution_count": 18,
   "metadata": {
    "cell_id": "00018-237081eb-d3b8-49fd-b20a-f0804adb82be",
    "deepnote_cell_type": "code",
    "deepnote_to_be_reexecuted": false,
    "execution_millis": 164004,
    "execution_start": 1615591967860,
    "source_hash": "d3d07bc8",
    "tags": []
   },
   "outputs": [
    {
     "name": "stdout",
     "output_type": "stream",
     "text": [
      "3300 1 Validation AUC: 0.7453917092654359\n",
      "3300 2 Validation AUC: 0.745573718810639\n",
      "3300 4 Validation AUC: 0.7465564434226696\n",
      "3650 1 Validation AUC: 0.7465815704529699\n",
      "3650 2 Validation AUC: 0.7458284769860685\n",
      "3650 4 Validation AUC: 0.7474170152368369\n",
      "4000 1 Validation AUC: 0.7464836396045883\n",
      "4000 2 Validation AUC: 0.7446896866393868\n",
      "4000 4 Validation AUC: 0.7477460176333585\n",
      "4300 1 Validation AUC: 0.7443780463419922\n",
      "4300 2 Validation AUC: 0.7456217929509745\n",
      "4300 4 Validation AUC: 0.7458821306185265\n",
      "4650 1 Validation AUC: 0.7448582800170827\n",
      "4650 2 Validation AUC: 0.7445049287390135\n",
      "4650 4 Validation AUC: 0.7455503412353364\n"
     ]
    }
   ],
   "source": [
    "num_leaves = [3300, 3650, 4000, 4300, 4650]\n",
    "min_child_samples = [1, 2, 4]\n",
    "for n in num_leaves:\n",
    "    for m in min_child_samples:\n",
    "        lgbm = LGBMClassifier(num_leaves=n, learning_rate=0.01, min_child_samples=m, n_estimators=200)\n",
    "        lgbm.fit(XtrP, Ytr)\n",
    "        print(n,m,\"Validation AUC:\", metrics.roc_auc_score(Yva, lgbm.predict_proba(XvaP)[:,1]))\n",
    "\n",
    "# max_depths = [50, 75, 100, 125]\n",
    "# min_child_samples = [1, 2, 4]\n",
    "# for n in num_leaves:\n",
    "#     for d in max_depths:\n",
    "#         for m in min_child_samples:\n",
    "#             lgbm = LGBMClassifier(num_leaves=n, max_depth=d, learning_rate=0.01, min_child_samples=m, n_estimators=200)\n",
    "#             lgbm.fit(XtrP, Ytr)\n",
    "#             print(n,d,m,\"Validation AUC:\", metrics.roc_auc_score(Yva, lgbm.predict_proba(XvaP)[:,1]))"
   ]
  },
  {
   "cell_type": "code",
   "execution_count": 19,
   "metadata": {
    "cell_id": "00019-f78b3815-f53c-426b-ab73-514186596265",
    "deepnote_cell_type": "code",
    "deepnote_to_be_reexecuted": false,
    "execution_millis": 3816,
    "execution_start": 1615592131857,
    "source_hash": "e6aaf49d",
    "tags": []
   },
   "outputs": [
    {
     "name": "stdout",
     "output_type": "stream",
     "text": [
      "Training AUC: 0.9771825304995541\n",
      "Validation AUC: 0.7591105159309456\n"
     ]
    }
   ],
   "source": [
    "lgbm = LGBMClassifier(num_leaves=1000, learning_rate=0.01, min_child_samples=1, n_estimators=2000)\n",
    "lgbm.fit(XtrP, Ytr)\n",
    "print(\"Training AUC:\", metrics.roc_auc_score(Ytr, lgbm.predict_proba(XtrP)[:,1]))\n",
    "print(\"Validation AUC:\", metrics.roc_auc_score(Yva, lgbm.predict_proba(XvaP)[:,1]))"
   ]
  },
  {
   "cell_type": "markdown",
   "metadata": {
    "cell_id": "00019-97bc0927-abbc-490a-a9fa-a17341c9ca03",
    "deepnote_cell_type": "markdown",
    "tags": []
   },
   "source": [
    "    num_leaves=4000, min_child_samples=1: 0.9822267654079306, 0.7880581959019618\n"
   ]
  },
  {
   "cell_type": "markdown",
   "metadata": {
    "cell_id": "00013-978096f8-b3fb-4b66-a6aa-b60a7ae6d283",
    "deepnote_cell_type": "markdown",
    "tags": []
   },
   "source": [
    "## Neural Networks"
   ]
  },
  {
   "cell_type": "code",
   "execution_count": 20,
   "metadata": {
    "scrolled": true
   },
   "outputs": [
    {
     "name": "stdout",
     "output_type": "stream",
     "text": [
      "Epoch 1/200\n",
      "1407/1407 - 1s - loss: 0.5997 - accuracy: 0.6907\n",
      "Epoch 2/200\n",
      "1407/1407 - 1s - loss: 0.5888 - accuracy: 0.6993\n",
      "Epoch 3/200\n",
      "1407/1407 - 1s - loss: 0.5841 - accuracy: 0.7030\n",
      "Epoch 4/200\n",
      "1407/1407 - 1s - loss: 0.5810 - accuracy: 0.7047\n",
      "Epoch 5/200\n",
      "1407/1407 - 1s - loss: 0.5772 - accuracy: 0.7073\n",
      "Epoch 6/200\n",
      "1407/1407 - 1s - loss: 0.5747 - accuracy: 0.7095\n",
      "Epoch 7/200\n",
      "1407/1407 - 1s - loss: 0.5723 - accuracy: 0.7097\n",
      "Epoch 8/200\n",
      "1407/1407 - 1s - loss: 0.5699 - accuracy: 0.7120\n",
      "Epoch 9/200\n",
      "1407/1407 - 1s - loss: 0.5676 - accuracy: 0.7142\n",
      "Epoch 10/200\n",
      "1407/1407 - 1s - loss: 0.5653 - accuracy: 0.7147\n",
      "Epoch 11/200\n",
      "1407/1407 - 1s - loss: 0.5637 - accuracy: 0.7160\n",
      "Epoch 12/200\n",
      "1407/1407 - 1s - loss: 0.5611 - accuracy: 0.7166\n",
      "Epoch 13/200\n",
      "1407/1407 - 1s - loss: 0.5592 - accuracy: 0.7184\n",
      "Epoch 14/200\n",
      "1407/1407 - 1s - loss: 0.5570 - accuracy: 0.7194\n",
      "Epoch 15/200\n",
      "1407/1407 - 1s - loss: 0.5554 - accuracy: 0.7211\n",
      "Epoch 16/200\n",
      "1407/1407 - 1s - loss: 0.5534 - accuracy: 0.7215\n",
      "Epoch 17/200\n",
      "1407/1407 - 1s - loss: 0.5521 - accuracy: 0.7220\n",
      "Epoch 18/200\n",
      "1407/1407 - 1s - loss: 0.5503 - accuracy: 0.7230\n",
      "Epoch 19/200\n",
      "1407/1407 - 1s - loss: 0.5487 - accuracy: 0.7237\n",
      "Epoch 20/200\n",
      "1407/1407 - 1s - loss: 0.5472 - accuracy: 0.7257\n",
      "Epoch 21/200\n",
      "1407/1407 - 1s - loss: 0.5457 - accuracy: 0.7256\n",
      "Epoch 22/200\n",
      "1407/1407 - 1s - loss: 0.5440 - accuracy: 0.7264\n",
      "Epoch 23/200\n",
      "1407/1407 - 1s - loss: 0.5428 - accuracy: 0.7284\n",
      "Epoch 24/200\n",
      "1407/1407 - 1s - loss: 0.5412 - accuracy: 0.7287\n",
      "Epoch 25/200\n",
      "1407/1407 - 1s - loss: 0.5397 - accuracy: 0.7292\n",
      "Epoch 26/200\n",
      "1407/1407 - 1s - loss: 0.5383 - accuracy: 0.7308\n",
      "Epoch 27/200\n",
      "1407/1407 - 1s - loss: 0.5372 - accuracy: 0.7309\n",
      "Epoch 28/200\n",
      "1407/1407 - 1s - loss: 0.5356 - accuracy: 0.7323\n",
      "Epoch 29/200\n",
      "1407/1407 - 1s - loss: 0.5344 - accuracy: 0.7322\n",
      "Epoch 30/200\n",
      "1407/1407 - 1s - loss: 0.5329 - accuracy: 0.7333\n",
      "Epoch 31/200\n",
      "1407/1407 - 1s - loss: 0.5321 - accuracy: 0.7337\n",
      "Epoch 32/200\n",
      "1407/1407 - 1s - loss: 0.5312 - accuracy: 0.7345\n",
      "Epoch 33/200\n",
      "1407/1407 - 1s - loss: 0.5300 - accuracy: 0.7349\n",
      "Epoch 34/200\n",
      "1407/1407 - 1s - loss: 0.5283 - accuracy: 0.7351\n",
      "Epoch 35/200\n",
      "1407/1407 - 1s - loss: 0.5276 - accuracy: 0.7363\n",
      "Epoch 36/200\n",
      "1407/1407 - 1s - loss: 0.5267 - accuracy: 0.7373\n",
      "Epoch 37/200\n",
      "1407/1407 - 1s - loss: 0.5259 - accuracy: 0.7372\n",
      "Epoch 38/200\n",
      "1407/1407 - 1s - loss: 0.5248 - accuracy: 0.7384\n",
      "Epoch 39/200\n",
      "1407/1407 - 1s - loss: 0.5239 - accuracy: 0.7388\n",
      "Epoch 40/200\n",
      "1407/1407 - 1s - loss: 0.5228 - accuracy: 0.7387\n",
      "Epoch 41/200\n",
      "1407/1407 - 1s - loss: 0.5218 - accuracy: 0.7397\n",
      "Epoch 42/200\n",
      "1407/1407 - 1s - loss: 0.5211 - accuracy: 0.7389\n",
      "Epoch 43/200\n",
      "1407/1407 - 1s - loss: 0.5202 - accuracy: 0.7405\n",
      "Epoch 44/200\n",
      "1407/1407 - 1s - loss: 0.5190 - accuracy: 0.7406\n",
      "Epoch 45/200\n",
      "1407/1407 - 1s - loss: 0.5181 - accuracy: 0.7412\n",
      "Epoch 46/200\n",
      "1407/1407 - 1s - loss: 0.5174 - accuracy: 0.7421\n",
      "Epoch 47/200\n",
      "1407/1407 - 1s - loss: 0.5163 - accuracy: 0.7427\n",
      "Epoch 48/200\n",
      "1407/1407 - 1s - loss: 0.5156 - accuracy: 0.7421\n",
      "Epoch 49/200\n",
      "1407/1407 - 1s - loss: 0.5145 - accuracy: 0.7428\n",
      "Epoch 50/200\n",
      "1407/1407 - 1s - loss: 0.5140 - accuracy: 0.7424\n",
      "Epoch 51/200\n",
      "1407/1407 - 1s - loss: 0.5134 - accuracy: 0.7435\n",
      "Epoch 52/200\n",
      "1407/1407 - 1s - loss: 0.5125 - accuracy: 0.7437\n",
      "Epoch 53/200\n",
      "1407/1407 - 1s - loss: 0.5113 - accuracy: 0.7444\n",
      "Epoch 54/200\n",
      "1407/1407 - 1s - loss: 0.5108 - accuracy: 0.7442\n",
      "Epoch 55/200\n",
      "1407/1407 - 1s - loss: 0.5102 - accuracy: 0.7452\n",
      "Epoch 56/200\n",
      "1407/1407 - 1s - loss: 0.5098 - accuracy: 0.7455\n",
      "Epoch 57/200\n",
      "1407/1407 - 1s - loss: 0.5090 - accuracy: 0.7462\n",
      "Epoch 58/200\n",
      "1407/1407 - 1s - loss: 0.5082 - accuracy: 0.7459\n",
      "Epoch 59/200\n",
      "1407/1407 - 1s - loss: 0.5078 - accuracy: 0.7473\n",
      "Epoch 60/200\n",
      "1407/1407 - 1s - loss: 0.5070 - accuracy: 0.7469\n",
      "Epoch 61/200\n",
      "1407/1407 - 1s - loss: 0.5060 - accuracy: 0.7481\n",
      "Epoch 62/200\n",
      "1407/1407 - 1s - loss: 0.5053 - accuracy: 0.7485\n",
      "Epoch 63/200\n",
      "1407/1407 - 1s - loss: 0.5045 - accuracy: 0.7486\n",
      "Epoch 64/200\n",
      "1407/1407 - 1s - loss: 0.5041 - accuracy: 0.7483\n",
      "Epoch 65/200\n",
      "1407/1407 - 1s - loss: 0.5031 - accuracy: 0.7501\n",
      "Epoch 66/200\n",
      "1407/1407 - 1s - loss: 0.5030 - accuracy: 0.7495\n",
      "Epoch 67/200\n",
      "1407/1407 - 1s - loss: 0.5028 - accuracy: 0.7498\n",
      "Epoch 68/200\n",
      "1407/1407 - 1s - loss: 0.5015 - accuracy: 0.7506\n",
      "Epoch 69/200\n",
      "1407/1407 - 1s - loss: 0.5012 - accuracy: 0.7510\n",
      "Epoch 70/200\n",
      "1407/1407 - 1s - loss: 0.5005 - accuracy: 0.7512\n",
      "Epoch 71/200\n",
      "1407/1407 - 1s - loss: 0.5003 - accuracy: 0.7515\n",
      "Epoch 72/200\n",
      "1407/1407 - 1s - loss: 0.4990 - accuracy: 0.7521\n",
      "Epoch 73/200\n",
      "1407/1407 - 1s - loss: 0.4990 - accuracy: 0.7515\n",
      "Epoch 74/200\n",
      "1407/1407 - 1s - loss: 0.4984 - accuracy: 0.7528\n",
      "Epoch 75/200\n",
      "1407/1407 - 1s - loss: 0.4977 - accuracy: 0.7527\n",
      "Epoch 76/200\n",
      "1407/1407 - 1s - loss: 0.4974 - accuracy: 0.7531\n",
      "Epoch 77/200\n",
      "1407/1407 - 1s - loss: 0.4973 - accuracy: 0.7526\n",
      "Epoch 78/200\n",
      "1407/1407 - 1s - loss: 0.4959 - accuracy: 0.7530\n",
      "Epoch 79/200\n",
      "1407/1407 - 1s - loss: 0.4957 - accuracy: 0.7537\n",
      "Epoch 80/200\n",
      "1407/1407 - 1s - loss: 0.4948 - accuracy: 0.7547\n",
      "Epoch 81/200\n",
      "1407/1407 - 1s - loss: 0.4944 - accuracy: 0.7547\n",
      "Epoch 82/200\n",
      "1407/1407 - 1s - loss: 0.4942 - accuracy: 0.7536\n",
      "Epoch 83/200\n",
      "1407/1407 - 1s - loss: 0.4937 - accuracy: 0.7550\n",
      "Epoch 84/200\n",
      "1407/1407 - 2s - loss: 0.4932 - accuracy: 0.7556\n",
      "Epoch 85/200\n",
      "1407/1407 - 1s - loss: 0.4926 - accuracy: 0.7552\n",
      "Epoch 86/200\n",
      "1407/1407 - 1s - loss: 0.4921 - accuracy: 0.7555\n",
      "Epoch 87/200\n",
      "1407/1407 - 1s - loss: 0.4919 - accuracy: 0.7549\n",
      "Epoch 88/200\n",
      "1407/1407 - 1s - loss: 0.4914 - accuracy: 0.7561\n",
      "Epoch 89/200\n",
      "1407/1407 - 1s - loss: 0.4911 - accuracy: 0.7562\n",
      "Epoch 90/200\n",
      "1407/1407 - 1s - loss: 0.4907 - accuracy: 0.7566\n",
      "Epoch 91/200\n",
      "1407/1407 - 1s - loss: 0.4899 - accuracy: 0.7573\n",
      "Epoch 92/200\n",
      "1407/1407 - 1s - loss: 0.4889 - accuracy: 0.7577\n",
      "Epoch 93/200\n",
      "1407/1407 - 1s - loss: 0.4887 - accuracy: 0.7578\n",
      "Epoch 94/200\n",
      "1407/1407 - 1s - loss: 0.4883 - accuracy: 0.7571\n",
      "Epoch 95/200\n",
      "1407/1407 - 1s - loss: 0.4876 - accuracy: 0.7579\n",
      "Epoch 96/200\n",
      "1407/1407 - 1s - loss: 0.4877 - accuracy: 0.7581\n",
      "Epoch 97/200\n",
      "1407/1407 - 1s - loss: 0.4870 - accuracy: 0.7587\n",
      "Epoch 98/200\n",
      "1407/1407 - 1s - loss: 0.4860 - accuracy: 0.7581\n",
      "Epoch 99/200\n",
      "1407/1407 - 1s - loss: 0.4858 - accuracy: 0.7588\n",
      "Epoch 100/200\n",
      "1407/1407 - 1s - loss: 0.4852 - accuracy: 0.7596\n",
      "Epoch 101/200\n",
      "1407/1407 - 1s - loss: 0.4855 - accuracy: 0.7602\n",
      "Epoch 102/200\n",
      "1407/1407 - 1s - loss: 0.4850 - accuracy: 0.7602\n",
      "Epoch 103/200\n",
      "1407/1407 - 2s - loss: 0.4839 - accuracy: 0.7599\n",
      "Epoch 104/200\n",
      "1407/1407 - 1s - loss: 0.4841 - accuracy: 0.7599\n",
      "Epoch 105/200\n",
      "1407/1407 - 1s - loss: 0.4836 - accuracy: 0.7608\n",
      "Epoch 106/200\n",
      "1407/1407 - 1s - loss: 0.4831 - accuracy: 0.7603\n",
      "Epoch 107/200\n",
      "1407/1407 - 1s - loss: 0.4826 - accuracy: 0.7603\n",
      "Epoch 108/200\n",
      "1407/1407 - 1s - loss: 0.4826 - accuracy: 0.7610\n",
      "Epoch 109/200\n",
      "1407/1407 - 1s - loss: 0.4822 - accuracy: 0.7611\n",
      "Epoch 110/200\n",
      "1407/1407 - 1s - loss: 0.4816 - accuracy: 0.7618\n",
      "Epoch 111/200\n",
      "1407/1407 - 1s - loss: 0.4816 - accuracy: 0.7613\n",
      "Epoch 112/200\n",
      "1407/1407 - 1s - loss: 0.4812 - accuracy: 0.7620\n",
      "Epoch 113/200\n",
      "1407/1407 - 1s - loss: 0.4808 - accuracy: 0.7622\n",
      "Epoch 114/200\n",
      "1407/1407 - 1s - loss: 0.4799 - accuracy: 0.7617\n",
      "Epoch 115/200\n",
      "1407/1407 - 1s - loss: 0.4797 - accuracy: 0.7632\n",
      "Epoch 116/200\n",
      "1407/1407 - 1s - loss: 0.4798 - accuracy: 0.7628\n",
      "Epoch 117/200\n",
      "1407/1407 - 1s - loss: 0.4788 - accuracy: 0.7631\n",
      "Epoch 118/200\n",
      "1407/1407 - 1s - loss: 0.4787 - accuracy: 0.7626\n",
      "Epoch 119/200\n",
      "1407/1407 - 1s - loss: 0.4782 - accuracy: 0.7642\n",
      "Epoch 120/200\n",
      "1407/1407 - 2s - loss: 0.4787 - accuracy: 0.7634\n",
      "Epoch 121/200\n",
      "1407/1407 - 1s - loss: 0.4779 - accuracy: 0.7638\n",
      "Epoch 122/200\n",
      "1407/1407 - 1s - loss: 0.4770 - accuracy: 0.7640\n",
      "Epoch 123/200\n",
      "1407/1407 - 1s - loss: 0.4770 - accuracy: 0.7639\n",
      "Epoch 124/200\n",
      "1407/1407 - 1s - loss: 0.4771 - accuracy: 0.7638\n",
      "Epoch 125/200\n",
      "1407/1407 - 1s - loss: 0.4764 - accuracy: 0.7647\n",
      "Epoch 126/200\n",
      "1407/1407 - 1s - loss: 0.4759 - accuracy: 0.7649\n",
      "Epoch 127/200\n",
      "1407/1407 - 2s - loss: 0.4757 - accuracy: 0.7643\n",
      "Epoch 128/200\n",
      "1407/1407 - 1s - loss: 0.4748 - accuracy: 0.7647\n",
      "Epoch 129/200\n",
      "1407/1407 - 1s - loss: 0.4751 - accuracy: 0.7645\n",
      "Epoch 130/200\n",
      "1407/1407 - 1s - loss: 0.4743 - accuracy: 0.7650\n",
      "Epoch 131/200\n",
      "1407/1407 - 1s - loss: 0.4740 - accuracy: 0.7650\n",
      "Epoch 132/200\n",
      "1407/1407 - 1s - loss: 0.4738 - accuracy: 0.7657\n",
      "Epoch 133/200\n",
      "1407/1407 - 1s - loss: 0.4737 - accuracy: 0.7665\n",
      "Epoch 134/200\n",
      "1407/1407 - 1s - loss: 0.4732 - accuracy: 0.7662\n",
      "Epoch 135/200\n",
      "1407/1407 - 1s - loss: 0.4720 - accuracy: 0.7669\n",
      "Epoch 136/200\n",
      "1407/1407 - 1s - loss: 0.4722 - accuracy: 0.7669\n",
      "Epoch 137/200\n",
      "1407/1407 - 1s - loss: 0.4716 - accuracy: 0.7672\n",
      "Epoch 138/200\n",
      "1407/1407 - 1s - loss: 0.4715 - accuracy: 0.7675\n",
      "Epoch 139/200\n",
      "1407/1407 - 1s - loss: 0.4714 - accuracy: 0.7671\n",
      "Epoch 140/200\n",
      "1407/1407 - 1s - loss: 0.4707 - accuracy: 0.7673\n",
      "Epoch 141/200\n",
      "1407/1407 - 1s - loss: 0.4708 - accuracy: 0.7669\n",
      "Epoch 142/200\n",
      "1407/1407 - 1s - loss: 0.4709 - accuracy: 0.7669\n",
      "Epoch 143/200\n",
      "1407/1407 - 1s - loss: 0.4700 - accuracy: 0.7674\n",
      "Epoch 144/200\n",
      "1407/1407 - 1s - loss: 0.4697 - accuracy: 0.7679\n",
      "Epoch 145/200\n",
      "1407/1407 - 1s - loss: 0.4691 - accuracy: 0.7679\n",
      "Epoch 146/200\n",
      "1407/1407 - 1s - loss: 0.4695 - accuracy: 0.7677\n",
      "Epoch 147/200\n",
      "1407/1407 - 1s - loss: 0.4699 - accuracy: 0.7674\n",
      "Epoch 148/200\n",
      "1407/1407 - 1s - loss: 0.4684 - accuracy: 0.7688\n",
      "Epoch 149/200\n",
      "1407/1407 - 1s - loss: 0.4680 - accuracy: 0.7680\n",
      "Epoch 150/200\n",
      "1407/1407 - 1s - loss: 0.4678 - accuracy: 0.7686\n",
      "Epoch 151/200\n",
      "1407/1407 - 1s - loss: 0.4675 - accuracy: 0.7692\n",
      "Epoch 152/200\n",
      "1407/1407 - 1s - loss: 0.4679 - accuracy: 0.7681\n",
      "Epoch 153/200\n",
      "1407/1407 - 1s - loss: 0.4671 - accuracy: 0.7689\n",
      "Epoch 154/200\n",
      "1407/1407 - 1s - loss: 0.4671 - accuracy: 0.7693\n",
      "Epoch 155/200\n",
      "1407/1407 - 1s - loss: 0.4672 - accuracy: 0.7688\n",
      "Epoch 156/200\n",
      "1407/1407 - 1s - loss: 0.4662 - accuracy: 0.7699\n",
      "Epoch 157/200\n",
      "1407/1407 - 1s - loss: 0.4662 - accuracy: 0.7706\n",
      "Epoch 158/200\n",
      "1407/1407 - 1s - loss: 0.4665 - accuracy: 0.7684\n",
      "Epoch 159/200\n",
      "1407/1407 - 1s - loss: 0.4653 - accuracy: 0.7708\n",
      "Epoch 160/200\n",
      "1407/1407 - 1s - loss: 0.4657 - accuracy: 0.7697\n",
      "Epoch 161/200\n",
      "1407/1407 - 1s - loss: 0.4650 - accuracy: 0.7709\n",
      "Epoch 162/200\n",
      "1407/1407 - 2s - loss: 0.4649 - accuracy: 0.7704\n",
      "Epoch 163/200\n",
      "1407/1407 - 1s - loss: 0.4641 - accuracy: 0.7706\n",
      "Epoch 164/200\n",
      "1407/1407 - 1s - loss: 0.4646 - accuracy: 0.7707\n",
      "Epoch 165/200\n",
      "1407/1407 - 1s - loss: 0.4638 - accuracy: 0.7700\n",
      "Epoch 166/200\n",
      "1407/1407 - 1s - loss: 0.4635 - accuracy: 0.7707\n",
      "Epoch 167/200\n",
      "1407/1407 - 1s - loss: 0.4631 - accuracy: 0.7713\n",
      "Epoch 168/200\n",
      "1407/1407 - 1s - loss: 0.4627 - accuracy: 0.7713\n",
      "Epoch 169/200\n",
      "1407/1407 - 1s - loss: 0.4629 - accuracy: 0.7713\n",
      "Epoch 170/200\n",
      "1407/1407 - 1s - loss: 0.4626 - accuracy: 0.7720\n",
      "Epoch 171/200\n",
      "1407/1407 - 1s - loss: 0.4625 - accuracy: 0.7720\n",
      "Epoch 172/200\n",
      "1407/1407 - 1s - loss: 0.4619 - accuracy: 0.7717\n",
      "Epoch 173/200\n",
      "1407/1407 - 1s - loss: 0.4615 - accuracy: 0.7723\n",
      "Epoch 174/200\n",
      "1407/1407 - 1s - loss: 0.4619 - accuracy: 0.7721\n",
      "Epoch 175/200\n",
      "1407/1407 - 1s - loss: 0.4612 - accuracy: 0.7724\n",
      "Epoch 176/200\n",
      "1407/1407 - 1s - loss: 0.4608 - accuracy: 0.7725\n",
      "Epoch 177/200\n",
      "1407/1407 - 1s - loss: 0.4604 - accuracy: 0.7730\n",
      "Epoch 178/200\n",
      "1407/1407 - 1s - loss: 0.4604 - accuracy: 0.7724\n",
      "Epoch 179/200\n",
      "1407/1407 - 1s - loss: 0.4604 - accuracy: 0.7731\n",
      "Epoch 180/200\n",
      "1407/1407 - 1s - loss: 0.4596 - accuracy: 0.7737\n",
      "Epoch 181/200\n",
      "1407/1407 - 1s - loss: 0.4598 - accuracy: 0.7727\n",
      "Epoch 182/200\n",
      "1407/1407 - 1s - loss: 0.4593 - accuracy: 0.7736\n",
      "Epoch 183/200\n",
      "1407/1407 - 1s - loss: 0.4592 - accuracy: 0.7731\n",
      "Epoch 184/200\n",
      "1407/1407 - 1s - loss: 0.4592 - accuracy: 0.7733\n",
      "Epoch 185/200\n",
      "1407/1407 - 1s - loss: 0.4594 - accuracy: 0.7728\n",
      "Epoch 186/200\n",
      "1407/1407 - 1s - loss: 0.4587 - accuracy: 0.7739\n",
      "Epoch 187/200\n",
      "1407/1407 - 1s - loss: 0.4579 - accuracy: 0.7741\n",
      "Epoch 188/200\n",
      "1407/1407 - 1s - loss: 0.4576 - accuracy: 0.7743\n",
      "Epoch 189/200\n",
      "1407/1407 - 1s - loss: 0.4581 - accuracy: 0.7744\n",
      "Epoch 190/200\n",
      "1407/1407 - 1s - loss: 0.4574 - accuracy: 0.7740\n",
      "Epoch 191/200\n",
      "1407/1407 - 1s - loss: 0.4574 - accuracy: 0.7743\n",
      "Epoch 192/200\n",
      "1407/1407 - 1s - loss: 0.4575 - accuracy: 0.7732\n",
      "Epoch 193/200\n",
      "1407/1407 - 1s - loss: 0.4569 - accuracy: 0.7742\n",
      "Epoch 194/200\n",
      "1407/1407 - 1s - loss: 0.4561 - accuracy: 0.7748\n",
      "Epoch 195/200\n",
      "1407/1407 - 1s - loss: 0.4554 - accuracy: 0.7748\n",
      "Epoch 196/200\n",
      "1407/1407 - 1s - loss: 0.4563 - accuracy: 0.7749\n",
      "Epoch 197/200\n",
      "1407/1407 - 1s - loss: 0.4554 - accuracy: 0.7753\n",
      "Epoch 198/200\n",
      "1407/1407 - 1s - loss: 0.4553 - accuracy: 0.7755\n",
      "Epoch 199/200\n",
      "1407/1407 - 1s - loss: 0.4560 - accuracy: 0.7739\n",
      "Epoch 200/200\n",
      "1407/1407 - 1s - loss: 0.4552 - accuracy: 0.7743\n"
     ]
    },
    {
     "data": {
      "text/plain": [
       "<tensorflow.python.keras.callbacks.History at 0x7f925a072430>"
      ]
     },
     "execution_count": 20,
     "metadata": {},
     "output_type": "execute_result"
    }
   ],
   "source": [
    "from tensorflow.keras import Sequential\n",
    "from tensorflow.keras.layers import Dense\n",
    "\n",
    "n_features = XtrP.shape[1]\n",
    "# define model\n",
    "nn = Sequential()\n",
    "nn.add(Dense(500, activation='relu', kernel_initializer='he_normal', input_shape=(n_features,)))\n",
    "nn.add(Dense(100, activation='relu', kernel_initializer='he_normal'))\n",
    "nn.add(Dense(10, activation='relu', kernel_initializer='he_normal'))\n",
    "nn.add(Dense(1, activation='sigmoid'))\n",
    "# compile the model\n",
    "nn.compile(optimizer='adam', loss='binary_crossentropy', metrics=['accuracy'])\n",
    "# fit the model\n",
    "nn.fit(XtrP, Ytr, epochs=200, batch_size=128, verbose=2)"
   ]
  },
  {
   "cell_type": "code",
   "execution_count": 34,
   "metadata": {},
   "outputs": [
    {
     "name": "stdout",
     "output_type": "stream",
     "text": [
      "Training AUC: 0.8460315351343201\n",
      "Validation AUC: 0.7470837026688537\n"
     ]
    }
   ],
   "source": [
    "print(\"Training AUC:\", metrics.roc_auc_score(Ytr, nn.predict_proba(XtrP)))\n",
    "print(\"Validation AUC:\", metrics.roc_auc_score(Yva, nn.predict_proba(XvaP)))"
   ]
  },
  {
   "cell_type": "markdown",
   "metadata": {
    "cell_id": "00032-683a6892-0f7b-4efb-ba1f-ce2a6b7b760a",
    "deepnote_cell_type": "markdown",
    "tags": []
   },
   "source": [
    "## Ensemble"
   ]
  },
  {
   "cell_type": "code",
   "execution_count": 53,
   "metadata": {
    "cell_id": "00030-ec623fcb-2cbb-4036-a14c-43b35b581168",
    "deepnote_cell_type": "code",
    "deepnote_to_be_reexecuted": false,
    "execution_millis": 34313,
    "execution_start": 1615594107141,
    "source_hash": "5b397ed1",
    "tags": []
   },
   "outputs": [],
   "source": [
    "abc_pred = abc.predict_proba(XvaP)[:,1]\n",
    "rf_pred = rf.predict_proba(XvaP)[:,1]\n",
    "neigh_pred = neigh.predict_proba(XvaKNN)[:,1]\n",
    "nn_pred = nn.predict_proba(XvaP)\n",
    "\n",
    "XvaStack = np.column_stack((abc_pred, rf_pred, neigh_pred, nn_pred))"
   ]
  },
  {
   "cell_type": "code",
   "execution_count": 54,
   "metadata": {},
   "outputs": [
    {
     "name": "stdout",
     "output_type": "stream",
     "text": [
      "Validation AUC lgbm: 0.7591105159309456\n",
      "Validation AUC rf: 0.7644580645372071\n",
      "Validation AUC neigh: 0.731799663583667\n",
      "Validation AUC nn: 0.7470837026688537\n",
      "Validation AUC: 0.7750211579197815\n"
     ]
    }
   ],
   "source": [
    "print(\"Validation AUC lgbm:\", metrics.roc_auc_score(Yva, lgbm_pred))\n",
    "print(\"Validation AUC rf:\", metrics.roc_auc_score(Yva, rf_pred))\n",
    "print(\"Validation AUC neigh:\", metrics.roc_auc_score(Yva, neigh_pred))\n",
    "print(\"Validation AUC nn:\", metrics.roc_auc_score(Yva, nn_pred))\n",
    "print(\"Validation AUC:\", metrics.roc_auc_score(Yva, stacked.predict_proba(XvaStack)[:,1]))"
   ]
  },
  {
   "cell_type": "code",
   "execution_count": 51,
   "metadata": {},
   "outputs": [],
   "source": [
    "lgbm_pred = lgbm.predict_proba(XvaP)[:,1]\n",
    "rf_pred = rf.predict_proba(XvaP)[:,1]\n",
    "neigh_pred = neigh.predict_proba(XvaKNN)[:,1]\n",
    "nn_pred = nn.predict_proba(XvaP)"
   ]
  },
  {
   "cell_type": "code",
   "execution_count": 52,
   "metadata": {},
   "outputs": [
    {
     "name": "stdout",
     "output_type": "stream",
     "text": [
      "0.1 Validation AUC: 0.7776763118406956\n",
      "1 Validation AUC: 0.7776579453226108\n",
      "10 Validation AUC: 0.7776378348683136\n",
      "100 Validation AUC: 0.7776336405913471\n",
      "1000 Validation AUC: 0.7776331218255118\n",
      "10000 Validation AUC: 0.7776329783370893\n",
      "1000000 Validation AUC: 0.7776330224873731\n"
     ]
    }
   ],
   "source": [
    "XvaStack = np.column_stack((lgbm_pred, rf_pred, neigh_pred, nn_pred))\n",
    "for c in [.1, 1, 10, 100, 1000, 10000, 1000000]:\n",
    "    stacked = LogisticRegression(max_iter=1000, C=c)\n",
    "    stacked.fit(XvaStack, Yva)\n",
    "    print(c, \"Validation AUC:\", metrics.roc_auc_score(Yva, stacked.predict_proba(XvaStack)[:,1]))"
   ]
  },
  {
   "cell_type": "code",
   "execution_count": 31,
   "metadata": {},
   "outputs": [
    {
     "data": {
      "text/plain": [
       "LogisticRegression(C=100000, max_iter=1000)"
      ]
     },
     "execution_count": 31,
     "metadata": {},
     "output_type": "execute_result"
    }
   ],
   "source": [
    "stacked = LogisticRegression(max_iter=1000, C=100000)\n",
    "stacked.fit(XvaStack, Yva)"
   ]
  },
  {
   "cell_type": "markdown",
   "metadata": {
    "cell_id": "00033-2ea4f7bc-1b27-4f0b-8c3d-df6171e7903e",
    "deepnote_cell_type": "markdown",
    "tags": []
   },
   "source": [
    "## Submission"
   ]
  },
  {
   "cell_type": "code",
   "execution_count": 44,
   "metadata": {
    "cell_id": "00033-7e09bc2d-ef9f-4823-b8d0-f29a2cf8c661",
    "deepnote_cell_type": "code",
    "tags": []
   },
   "outputs": [],
   "source": [
    "Xte = np.genfromtxt('X_test.txt', delimiter=None)\n",
    "XteP, params = ml.rescale(Xte)\n",
    "XteKNN = XteP[:, 0]\n",
    "for i in range(1, 14):\n",
    "    if i not in [3, 13]:\n",
    "        XteKNN = np.column_stack((XteKNN, XteP[:,i]))\n",
    "XteKNN = np.column_stack((XteKNN, np.multiply(-XteP[:,3], XteP[:,13])))"
   ]
  },
  {
   "cell_type": "code",
   "execution_count": 45,
   "metadata": {
    "cell_id": "00034-a13f279d-6702-47ea-98d4-37bc1fc7cd48",
    "deepnote_cell_type": "code",
    "tags": []
   },
   "outputs": [],
   "source": [
    "lgbm_pred = lgbm.predict_proba(XteP)[:,1]\n",
    "rf_pred = rf.predict_proba(XteP)[:,1]\n",
    "neigh_pred = neigh.predict_proba(XteKNN)[:,1]\n",
    "nn_pred = nn.predict_proba(XteP)\n",
    "\n",
    "XteStack = np.column_stack((lgbm_pred, rf_pred, neigh_pred, nn_pred))"
   ]
  },
  {
   "cell_type": "code",
   "execution_count": 46,
   "metadata": {},
   "outputs": [],
   "source": [
    "Yte = stacked.predict_proba(XteStack)[:,1]\n",
    "Y_sub = np.vstack([np.arange(Xte.shape[0]), Yte]).T\n",
    "np.savetxt('Y_submit.txt',Y_sub,'%d,%.10f',header='ID,Prob1',comments='',delimiter=',')"
   ]
  },
  {
   "cell_type": "code",
   "execution_count": 47,
   "metadata": {},
   "outputs": [
    {
     "data": {
      "text/plain": [
       "(180000, 14)"
      ]
     },
     "execution_count": 47,
     "metadata": {},
     "output_type": "execute_result"
    }
   ],
   "source": [
    "XtrP.shape"
   ]
  },
  {
   "cell_type": "code",
   "execution_count": null,
   "metadata": {},
   "outputs": [],
   "source": []
  }
 ],
 "metadata": {
  "deepnote": {
   "is_reactive": false
  },
  "deepnoteSessionId": "dea8a0f5-35e3-4468-94eb-804ff5fc7baa",
  "deepnote_execution_queue": [],
  "deepnote_notebook_id": "0f460af1-1872-4aa4-804e-36716dbf15fd",
  "kernelspec": {
   "display_name": "Python 3",
   "language": "python",
   "name": "python3"
  },
  "language_info": {
   "codemirror_mode": {
    "name": "ipython",
    "version": 3
   },
   "file_extension": ".py",
   "mimetype": "text/x-python",
   "name": "python",
   "nbconvert_exporter": "python",
   "pygments_lexer": "ipython3",
   "version": "3.8.5"
  }
 },
 "nbformat": 4,
 "nbformat_minor": 4
}
